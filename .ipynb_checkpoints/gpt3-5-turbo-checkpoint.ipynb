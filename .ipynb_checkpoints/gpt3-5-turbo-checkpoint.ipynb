{
 "cells": [
  {
   "cell_type": "markdown",
   "id": "ea00ed30-93ab-42fb-9297-df1958626a9e",
   "metadata": {},
   "source": [
    "# Title"
   ]
  },
  {
   "cell_type": "code",
   "execution_count": 144,
   "id": "30143073-b4f4-4680-af0a-6b22a7605a96",
   "metadata": {},
   "outputs": [],
   "source": [
    "from openai import OpenAI\n",
    "import nltk\n",
    "from nltk.tokenize.treebank import TreebankWordDetokenizer\n",
    "import random\n",
    "import pandas as pd"
   ]
  },
  {
   "cell_type": "code",
   "execution_count": 145,
   "id": "a5221b71-64f0-42cb-bd0a-cf021b9c5023",
   "metadata": {},
   "outputs": [],
   "source": [
    "client = OpenAI()\n",
    "detokenize = TreebankWordDetokenizer().detokenize"
   ]
  },
  {
   "cell_type": "code",
   "execution_count": 266,
   "id": "0373c497-dde1-4af5-9dc6-8590fd88e49d",
   "metadata": {},
   "outputs": [],
   "source": [
    "#Importing a list of sentences from a work of literature.\n",
    "sentences = nltk.corpus.gutenberg.sents('austen-emma.txt') + nltk.corpus.gutenberg.sents('austen-persuasion.txt') + nltk.corpus.gutenberg.sents('austen-sense.txt')\n",
    "\n",
    "#Try to limit the cost by considering sentences of between 10 and 20 words.\n",
    "sentences = [s for s in sentences if 9 < len(s) < 21]\n",
    "\n",
    "#The first and last few sentences can be weird, so out of an abundance of caution, drop the first and last 10 sentences. \n",
    "sentences = sentences[10:-10] "
   ]
  },
  {
   "cell_type": "code",
   "execution_count": 267,
   "id": "f0061c3f-87ce-4e68-ae2f-f75d9ca8f3bc",
   "metadata": {},
   "outputs": [
    {
     "data": {
      "text/plain": [
       "'Out filtered corpus contains 4984 sentences'"
      ]
     },
     "execution_count": 267,
     "metadata": {},
     "output_type": "execute_result"
    }
   ],
   "source": [
    "'Out filtered corpus contains {} sentences'.format(len(sentences))"
   ]
  },
  {
   "cell_type": "markdown",
   "id": "aec95f62-c6a6-4423-8692-4ff02ab03f85",
   "metadata": {},
   "source": [
    "Some useful functions for categorizing sentences, quickly getting a handle on those sentences."
   ]
  },
  {
   "cell_type": "code",
   "execution_count": 268,
   "id": "5a356c5f-9e4d-4835-80d7-0d25b7bee542",
   "metadata": {},
   "outputs": [],
   "source": [
    "def tags_present_in_sentence(s):\n",
    "    tagged = nltk.pos_tag(s)\n",
    "    tags = [w[1] for w in tagged]\n",
    "    return tags\n",
    "\n",
    "def display_sampling(list_of_sentences, k = 5, seed = None):\n",
    "    random.seed(seed)\n",
    "    to_display = random.choices(list_of_sentences, k = k)\n",
    "    for s in to_display:\n",
    "        print(detokenize(s))\n"
   ]
  },
  {
   "cell_type": "code",
   "execution_count": 269,
   "id": "22e09cff-790f-442b-85c3-1bb97981699e",
   "metadata": {},
   "outputs": [],
   "source": [
    "def ends_in_VBD(s):\n",
    "    \"Ends in a verb in the past tense\"\n",
    "    return nltk.pos_tag(s)[-2][1] == 'VBD'\n",
    "\n",
    "def ends_in_married(s):\n",
    "    return s[-2] == 'married'\n",
    "\n",
    "def contains_fairfax(s):\n",
    "    return 'Fairfax' in s\n",
    "\n",
    "def contains_two(s):\n",
    "    return 'two' in s or 'Two' in s\n",
    "\n",
    "def contains_CD(s):\n",
    "    \"Contains a numerical reference\"\n",
    "    return \"CD\" in tags_present_in_sentence(s)"
   ]
  },
  {
   "cell_type": "code",
   "execution_count": 270,
   "id": "5504f93a-a85d-456d-9e0a-ab86faad82af",
   "metadata": {},
   "outputs": [
    {
     "name": "stdout",
     "output_type": "stream",
     "text": [
      "\" I was six weeks with Edward,\" said he, \" and saw him happy.\n",
      "But thirty - five has nothing to do with matrimony.\"\n",
      "However, I think it answered so far as to tempt one to go again.\n",
      "He positively said that it had been known to no being in the world but their two selves.\"\n",
      "\" You think so, do you?-- I wanted the opinion of some one who could really judge.\n"
     ]
    }
   ],
   "source": [
    "display_sampling([s for s in sentences if contains_CD(s)])"
   ]
  },
  {
   "cell_type": "markdown",
   "id": "b7dfab76-3228-49cc-a4c0-16ae90966508",
   "metadata": {},
   "source": [
    "The above is helpful for playing around and getting sense of what our sentences look like. Now build a dataframe including the sentences and the result of our conditions."
   ]
  },
  {
   "cell_type": "code",
   "execution_count": 271,
   "id": "1be5c855-5e50-4896-8e4a-1ad1def9ead6",
   "metadata": {},
   "outputs": [],
   "source": [
    "df = pd.DataFrame(pd.Series(sentences, name = 'sentences'))"
   ]
  },
  {
   "cell_type": "code",
   "execution_count": 272,
   "id": "e36d5e11-0e4b-417d-875b-bdad3e04d8dd",
   "metadata": {},
   "outputs": [
    {
     "data": {
      "text/html": [
       "<div>\n",
       "<style scoped>\n",
       "    .dataframe tbody tr th:only-of-type {\n",
       "        vertical-align: middle;\n",
       "    }\n",
       "\n",
       "    .dataframe tbody tr th {\n",
       "        vertical-align: top;\n",
       "    }\n",
       "\n",
       "    .dataframe thead th {\n",
       "        text-align: right;\n",
       "    }\n",
       "</style>\n",
       "<table border=\"1\" class=\"dataframe\">\n",
       "  <thead>\n",
       "    <tr style=\"text-align: right;\">\n",
       "      <th></th>\n",
       "      <th>sentences</th>\n",
       "    </tr>\n",
       "  </thead>\n",
       "  <tbody>\n",
       "    <tr>\n",
       "      <th>0</th>\n",
       "      <td>[This, is, three, times, as, large, .--, And, ...</td>\n",
       "    </tr>\n",
       "    <tr>\n",
       "      <th>1</th>\n",
       "      <td>[_We_, must, begin, ;, we, must, go, and, pay,...</td>\n",
       "    </tr>\n",
       "    <tr>\n",
       "      <th>2</th>\n",
       "      <td>[\", My, dear, ,, how, am, I, to, get, so, far, ?]</td>\n",
       "    </tr>\n",
       "    <tr>\n",
       "      <th>3</th>\n",
       "      <td>[\", No, ,, papa, ,, nobody, thought, of, your,...</td>\n",
       "    </tr>\n",
       "    <tr>\n",
       "      <th>4</th>\n",
       "      <td>[We, must, go, in, the, carriage, ,, to, be, s...</td>\n",
       "    </tr>\n",
       "  </tbody>\n",
       "</table>\n",
       "</div>"
      ],
      "text/plain": [
       "                                           sentences\n",
       "0  [This, is, three, times, as, large, .--, And, ...\n",
       "1  [_We_, must, begin, ;, we, must, go, and, pay,...\n",
       "2  [\", My, dear, ,, how, am, I, to, get, so, far, ?]\n",
       "3  [\", No, ,, papa, ,, nobody, thought, of, your,...\n",
       "4  [We, must, go, in, the, carriage, ,, to, be, s..."
      ]
     },
     "execution_count": 272,
     "metadata": {},
     "output_type": "execute_result"
    }
   ],
   "source": [
    "df.head()"
   ]
  },
  {
   "cell_type": "code",
   "execution_count": 273,
   "id": "fe61d157-eca4-43b3-a9ab-886272812886",
   "metadata": {},
   "outputs": [],
   "source": [
    "def add_condition_column(df, condition):\n",
    "    df[condition.__name__] = df.sentences.apply(condition)\n",
    "    "
   ]
  },
  {
   "cell_type": "code",
   "execution_count": null,
   "id": "4cb66fdb-9359-4093-adfe-9728ddd1cb95",
   "metadata": {},
   "outputs": [],
   "source": []
  },
  {
   "cell_type": "code",
   "execution_count": 274,
   "id": "45c0ab9f-e4c4-4492-b2cd-f65665229ae7",
   "metadata": {},
   "outputs": [],
   "source": [
    "for cond in [ends_in_vbd, ends_in_married, contains_fairfax, contains_two, contains_CD]:\n",
    "    add_condition_column(df, cond)"
   ]
  },
  {
   "cell_type": "code",
   "execution_count": 275,
   "id": "c8b36973-d102-439a-86fa-f78043840991",
   "metadata": {},
   "outputs": [
    {
     "data": {
      "text/html": [
       "<div>\n",
       "<style scoped>\n",
       "    .dataframe tbody tr th:only-of-type {\n",
       "        vertical-align: middle;\n",
       "    }\n",
       "\n",
       "    .dataframe tbody tr th {\n",
       "        vertical-align: top;\n",
       "    }\n",
       "\n",
       "    .dataframe thead th {\n",
       "        text-align: right;\n",
       "    }\n",
       "</style>\n",
       "<table border=\"1\" class=\"dataframe\">\n",
       "  <thead>\n",
       "    <tr style=\"text-align: right;\">\n",
       "      <th></th>\n",
       "      <th>sentences</th>\n",
       "      <th>ends_in_vbd</th>\n",
       "      <th>ends_in_married</th>\n",
       "      <th>contains_fairfax</th>\n",
       "      <th>contains_two</th>\n",
       "      <th>contains_CD</th>\n",
       "    </tr>\n",
       "  </thead>\n",
       "  <tbody>\n",
       "    <tr>\n",
       "      <th>0</th>\n",
       "      <td>[This, is, three, times, as, large, .--, And, ...</td>\n",
       "      <td>False</td>\n",
       "      <td>False</td>\n",
       "      <td>False</td>\n",
       "      <td>False</td>\n",
       "      <td>True</td>\n",
       "    </tr>\n",
       "    <tr>\n",
       "      <th>1</th>\n",
       "      <td>[_We_, must, begin, ;, we, must, go, and, pay,...</td>\n",
       "      <td>False</td>\n",
       "      <td>False</td>\n",
       "      <td>False</td>\n",
       "      <td>False</td>\n",
       "      <td>False</td>\n",
       "    </tr>\n",
       "    <tr>\n",
       "      <th>2</th>\n",
       "      <td>[\", My, dear, ,, how, am, I, to, get, so, far, ?]</td>\n",
       "      <td>False</td>\n",
       "      <td>False</td>\n",
       "      <td>False</td>\n",
       "      <td>False</td>\n",
       "      <td>False</td>\n",
       "    </tr>\n",
       "    <tr>\n",
       "      <th>3</th>\n",
       "      <td>[\", No, ,, papa, ,, nobody, thought, of, your,...</td>\n",
       "      <td>False</td>\n",
       "      <td>False</td>\n",
       "      <td>False</td>\n",
       "      <td>False</td>\n",
       "      <td>False</td>\n",
       "    </tr>\n",
       "    <tr>\n",
       "      <th>4</th>\n",
       "      <td>[We, must, go, in, the, carriage, ,, to, be, s...</td>\n",
       "      <td>False</td>\n",
       "      <td>False</td>\n",
       "      <td>False</td>\n",
       "      <td>False</td>\n",
       "      <td>False</td>\n",
       "    </tr>\n",
       "  </tbody>\n",
       "</table>\n",
       "</div>"
      ],
      "text/plain": [
       "                                           sentences  ends_in_vbd  \\\n",
       "0  [This, is, three, times, as, large, .--, And, ...        False   \n",
       "1  [_We_, must, begin, ;, we, must, go, and, pay,...        False   \n",
       "2  [\", My, dear, ,, how, am, I, to, get, so, far, ?]        False   \n",
       "3  [\", No, ,, papa, ,, nobody, thought, of, your,...        False   \n",
       "4  [We, must, go, in, the, carriage, ,, to, be, s...        False   \n",
       "\n",
       "   ends_in_married  contains_fairfax  contains_two  contains_CD  \n",
       "0            False             False         False         True  \n",
       "1            False             False         False        False  \n",
       "2            False             False         False        False  \n",
       "3            False             False         False        False  \n",
       "4            False             False         False        False  "
      ]
     },
     "execution_count": 275,
     "metadata": {},
     "output_type": "execute_result"
    }
   ],
   "source": [
    "df.head()"
   ]
  },
  {
   "cell_type": "markdown",
   "id": "fdd8751a-21f7-4d8a-9c2d-77e08678231a",
   "metadata": {},
   "source": [
    "Now that we have a dataset (and a suite of tools for adding to the dataset), let's focus on getting the LLM to learn the condition in context and evaluate the LLM's learning. "
   ]
  },
  {
   "cell_type": "code",
   "execution_count": 277,
   "id": "993ef2f1-910d-4f2f-b87b-3ee0b27db948",
   "metadata": {},
   "outputs": [],
   "source": [
    "def get_learning_data(df, cond, k = 5, seed = None):\n",
    "    \"\"\"Filter on entries in df (not) satisfying condition, take only the sentences series, and sample k entries\n",
    "\n",
    "    Returns a pair of series, one satisfying the condition and one not. \n",
    "    \"\"\"\n",
    "    \n",
    "    satisfying = df.loc[df[cond.__name__] == True].sentences.sample(n = k, random_state = seed)\n",
    "    not_satisfying = df.loc[df[cond.__name__] == False].sentences.sample(n = k, random_state = seed)\n",
    "\n",
    "\n",
    "    return [satisfying, not_satisfying]"
   ]
  },
  {
   "cell_type": "code",
   "execution_count": 289,
   "id": "ce872082-d767-4333-b298-c8ae3d6c1146",
   "metadata": {},
   "outputs": [],
   "source": [
    "ld = get_learning_data(df, ends_in_married)"
   ]
  },
  {
   "cell_type": "code",
   "execution_count": 293,
   "id": "d8ff27e1-dd30-4fdd-9c3e-25111580c0eb",
   "metadata": {},
   "outputs": [],
   "source": [
    "def base_prompt(learning_data):\n",
    "    p = \"I have a secret condition in mind. The following sentences are labeled 'True' if the condition is satisfied and labeled 'False' otherwise:\\n\\n\"\n",
    "    for s in learning_data[0]:\n",
    "        p += detokenize(s) + \": \" + 'True\\n'\n",
    "    p += '\\n'\n",
    "    for s in learning_data[1]:\n",
    "        p += detokenize(s) + \": \" + 'False\\n'\n",
    "    \n",
    "    p += \"\\nYour task is to label the following sentences according to the secret condition. Return an ordered list using only the words 'True' or 'False':\"\n",
    "    return p"
   ]
  },
  {
   "cell_type": "code",
   "execution_count": 294,
   "id": "be4df44e-933e-4d70-9aee-30c26594a04b",
   "metadata": {
    "scrolled": true
   },
   "outputs": [
    {
     "name": "stdout",
     "output_type": "stream",
     "text": [
      "I have a secret condition in mind. The following sentences are labeled 'True' if the condition is satisfied and labeled 'False' otherwise:\n",
      "\n",
      "Every friend of Miss Taylor must be glad to have her so happily married.\": True\n",
      "Though I think he had better not have married.: True\n",
      "It was very wrong of me, you know, to keep any remembrances, after he was married.: True\n",
      "I am sure I was very much surprized when I first heard she was going to be married.\": True\n",
      "And I am so glad your sister is going to be well married!: True\n",
      "\n",
      "He looked completely astonished, but not more astonished than pleased; his eyes brightened!: False\n",
      "He begged her pardon, but she must be applied to, to explain Italian again.: False\n",
      "It is a corner room, and has windows on two sides.: False\n",
      "\" Now, ma' am,\" said Jane to her aunt, \" shall we join Mrs.: False\n",
      "Edward is very amiable, and I love him tenderly.: False\n",
      "\n",
      "Your task is to label the following sentences according to the secret condition. Return an ordered list using only the words 'True' or 'False':\n"
     ]
    }
   ],
   "source": [
    "print(base_prompt(ld))"
   ]
  },
  {
   "cell_type": "code",
   "execution_count": null,
   "id": "f0b55d65-785a-42b7-a22a-210401fc1bce",
   "metadata": {},
   "outputs": [],
   "source": []
  },
  {
   "cell_type": "code",
   "execution_count": null,
   "id": "81f23141-773b-45fa-b64e-2a1d085d32f5",
   "metadata": {},
   "outputs": [],
   "source": []
  },
  {
   "cell_type": "code",
   "execution_count": null,
   "id": "78c1cb88-f50e-4471-8852-326654caf523",
   "metadata": {},
   "outputs": [],
   "source": []
  }
 ],
 "metadata": {
  "kernelspec": {
   "display_name": "Python 3 (ipykernel)",
   "language": "python",
   "name": "python3"
  },
  "language_info": {
   "codemirror_mode": {
    "name": "ipython",
    "version": 3
   },
   "file_extension": ".py",
   "mimetype": "text/x-python",
   "name": "python",
   "nbconvert_exporter": "python",
   "pygments_lexer": "ipython3",
   "version": "3.12.0"
  }
 },
 "nbformat": 4,
 "nbformat_minor": 5
}
